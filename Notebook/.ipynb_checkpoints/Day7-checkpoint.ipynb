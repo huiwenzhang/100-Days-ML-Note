{
 "cells": [
  {
   "cell_type": "markdown",
   "metadata": {},
   "source": [
    "**How successful you are is decided by the people around you instead of youself. Finding the group which shares most similarites to you, you will know what kind of person you will become in the future**"
   ]
  },
  {
   "cell_type": "markdown",
   "metadata": {},
   "source": [
    "## What is k-NN?\n",
    "- It is a classification method\n",
    "- It assigns points to a class by connting the most votes (label) from his companions(top k close samples)\n",
    "- Non-parametric: doesn't have a distrution model for the data\n",
    "- Instance-based: classify by memorize and counting (also called lazy algorithm)"
   ]
  },
  {
   "cell_type": "markdown",
   "metadata": {},
   "source": [
    "## How does it work?\n",
    "- Prepare a set of labelled objects (dataset)\n",
    "- Sortted top k objects based on some kind of distance measure\n",
    "- Predict by counting most votes"
   ]
  },
  {
   "cell_type": "markdown",
   "metadata": {},
   "source": [
    "## How to predict?\n",
    "- Predict by counting most votes in top k objects"
   ]
  },
  {
   "cell_type": "markdown",
   "metadata": {},
   "source": [
    "## Measure of distance\n",
    "- Euclidean distance\n",
    "- Hamming distance\n",
    "- Manhattan distance\n",
    "- KL divergence"
   ]
  }
 ],
 "metadata": {
  "kernelspec": {
   "display_name": "Python [conda root]",
   "language": "python",
   "name": "conda-root-py"
  },
  "language_info": {
   "codemirror_mode": {
    "name": "ipython",
    "version": 3
   },
   "file_extension": ".py",
   "mimetype": "text/x-python",
   "name": "python",
   "nbconvert_exporter": "python",
   "pygments_lexer": "ipython3",
   "version": "3.6.3"
  },
  "toc": {
   "base_numbering": 1,
   "nav_menu": {},
   "number_sections": true,
   "sideBar": true,
   "skip_h1_title": false,
   "title_cell": "Table of Contents",
   "title_sidebar": "Contents",
   "toc_cell": false,
   "toc_position": {},
   "toc_section_display": true,
   "toc_window_display": false
  }
 },
 "nbformat": 4,
 "nbformat_minor": 2
}
