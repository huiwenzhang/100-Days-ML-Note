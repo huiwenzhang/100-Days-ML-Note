{
 "cells": [
  {
   "cell_type": "markdown",
   "metadata": {},
   "source": [
    "There are a lot of ways to config parameters in machiine learning projects. Generally, different config format file can be parsed by using specific python tools. Such as using ymal, json, .cfg, .ini. We can use Python build in moudel `CongfigParse` to parser .cfg files. Today we are gonna introduce a new tool which is deliberately developed for machine learning expriments where a lot of parameters involed. "
   ]
  },
  {
   "cell_type": "markdown",
   "metadata": {},
   "source": [
    "## Gin-config"
   ]
  },
  {
   "cell_type": "markdown",
   "metadata": {},
   "source": [
    "Gin is developed by google. Gin provides a lightweight configuration framework for Python, based on dependency injection. "
   ]
  },
  {
   "cell_type": "markdown",
   "metadata": {},
   "source": [
    "## Basic usage"
   ]
  },
  {
   "cell_type": "markdown",
   "metadata": {},
   "source": [
    "import gin  \n",
    "\\# import gin.tf"
   ]
  },
  {
   "cell_type": "markdown",
   "metadata": {},
   "source": [
    "**Config default values in functions**"
   ]
  },
  {
   "cell_type": "markdown",
   "metadata": {},
   "source": [
    "@gin.configurable  \n",
    "def dnn(inputs,  \n",
    "        num_outputs,  \n",
    "        layer_sizes=(512, 512),  \n",
    "        activation_fn=tf.nn.relu):  \n",
    "  ..."
   ]
  },
  {
   "cell_type": "markdown",
   "metadata": {},
   "source": [
    "The decorator will register dnn function with gin, and automatically makes all of its parameters configurable. To config the layer_size argument in config file, write "
   ]
  },
  {
   "cell_type": "markdown",
   "metadata": {},
   "source": [
    "\\# Inside \"config.gin\"    \n",
    "dnn.layer_sizes = (1024, 512, 128)"
   ]
  },
  {
   "cell_type": "markdown",
   "metadata": {},
   "source": [
    "**Config Class**"
   ]
  },
  {
   "cell_type": "markdown",
   "metadata": {},
   "source": [
    "Class in also configurable, where the configuration applies to constructer parameters"
   ]
  },
  {
   "cell_type": "markdown",
   "metadata": {},
   "source": [
    "@gin.configurable  \n",
    "class DNN(object):  \n",
    " \\ # Constructor parameters become configurable.  \n",
    "  def __init__(self,  \n",
    "               num_outputs,  \n",
    "               layer_sizes=(512, 512),  \n",
    "               activation_fn=tf.nn.relu):  \n",
    "    ...\n",
    "\n",
    "  def __call__(inputs):\n",
    "    ..."
   ]
  },
  {
   "cell_type": "markdown",
   "metadata": {},
   "source": [
    "Config with a .gin file"
   ]
  },
  {
   "cell_type": "markdown",
   "metadata": {},
   "source": [
    "\\# Inside \"config.gin\"  \n",
    "DNN.layer_sizes = (1024, 512, 128)"
   ]
  },
  {
   "cell_type": "markdown",
   "metadata": {},
   "source": [
    "Finally, to make configuration work, use "
   ]
  },
  {
   "cell_type": "markdown",
   "metadata": {},
   "source": [
    "gin.parse_config_file('config.gin')"
   ]
  },
  {
   "cell_type": "markdown",
   "metadata": {},
   "source": [
    "## Parsing funcions, classes, and instances"
   ]
  },
  {
   "cell_type": "markdown",
   "metadata": {},
   "source": [
    "We can also passing a function to a parameter, such as the activation funcion in deep learing, once the corresponding funtion is regiested with Gin. e.g."
   ]
  },
  {
   "cell_type": "markdown",
   "metadata": {},
   "source": [
    "\\# Inside \"config.gin\"  \n",
    "dnn.activation_fn = @tf.nn.tanh"
   ]
  },
  {
   "cell_type": "markdown",
   "metadata": {},
   "source": [
    "## Syntax reference"
   ]
  },
  {
   "cell_type": "markdown",
   "metadata": {},
   "source": [
    "| Syntax  |  Description |\n",
    "|:---|:---|\n",
    "|  @gin.configurable |  Decorator in Python code that registers a function with Gin, automatically making its parameters configurable. |\n",
    "|  name.param = value |   Basic syntax of a Gin binding. Once this is parsed, when the function or class named name is called, it will receive value as the value for parameter, unless a value is explicitly supplied by the caller. Any Python literal may be supplied as value.|\n",
    "| @some_name  | A reference to another function or class named some_name. This may be given as the value of a binding, to supply function- or class-valued parameters.  |\n",
    "| @some_name()  |  An evaluated reference. Instead of supplying the function or class directly, the result of calling some_name is passed instead. Note that the result is not cached; it is recomputed each time it is required. |\n",
    "| scope/name.param = value  |  A scoped binding. The binding is only active when name is called within scope scope. |\n",
    "| @scope/some_name  |   @scope/some_name|\n",
    "|   |   |\n",
    "|   |   |"
   ]
  }
 ],
 "metadata": {
  "kernelspec": {
   "display_name": "Python [conda root]",
   "language": "python",
   "name": "conda-root-py"
  },
  "language_info": {
   "codemirror_mode": {
    "name": "ipython",
    "version": 3
   },
   "file_extension": ".py",
   "mimetype": "text/x-python",
   "name": "python",
   "nbconvert_exporter": "python",
   "pygments_lexer": "ipython3",
   "version": "3.6.3"
  },
  "toc": {
   "base_numbering": 1,
   "nav_menu": {},
   "number_sections": true,
   "sideBar": true,
   "skip_h1_title": false,
   "title_cell": "Table of Contents",
   "title_sidebar": "Contents",
   "toc_cell": false,
   "toc_position": {},
   "toc_section_display": true,
   "toc_window_display": false
  }
 },
 "nbformat": 4,
 "nbformat_minor": 2
}
