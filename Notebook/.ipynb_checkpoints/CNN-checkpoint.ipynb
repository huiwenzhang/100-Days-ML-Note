{
 "cells": [
  {
   "cell_type": "markdown",
   "metadata": {},
   "source": [
    "# Convolutional Neral Network\n",
    "Show how to build convolutional neral network with tensorflow higher-level API"
   ]
  },
  {
   "cell_type": "markdown",
   "metadata": {},
   "source": [
    "## Biref theory\n",
    "![CNN](http://personal.ie.cuhk.edu.hk/~ccloy/project_target_code/images/fig3.png)\n"
   ]
  },
  {
   "cell_type": "markdown",
   "metadata": {},
   "source": [
    "## Operations in CNN\n",
    "Frequently used operations in CNN can be summarized below:\n",
    "- Convolution: extract feature with convolution computation between kernel weights and image inputs\n",
    "- Pooling:  very similar to how convolution operation works,  but using different computations, such as max operation.\n"
   ]
  },
  {
   "cell_type": "markdown",
   "metadata": {},
   "source": [
    "# Dataset\n",
    "This example is using MNIST handwritten digits. The dataset contains 60,000 examples for training and 10,000 examples for testing. The digits have been size-normalized and centered in a fixed-size image (28x28 pixels) with values from 0 to 1. For simplicity, each image has been flattened and converted to a 1-D numpy array of 784 features (28*28).\n",
    "\n",
    "![MNIST Dataset](http://neuralnetworksanddeeplearning.com/images/mnist_100_digits.png)\n"
   ]
  },
  {
   "cell_type": "markdown",
   "metadata": {},
   "source": [
    "# Emplementation\n",
    "## Import modules"
   ]
  },
  {
   "cell_type": "code",
   "execution_count": 8,
   "metadata": {},
   "outputs": [
    {
     "name": "stdout",
     "output_type": "stream",
     "text": [
      "Extracting /tmp/data/train-images-idx3-ubyte.gz\n",
      "Extracting /tmp/data/train-labels-idx1-ubyte.gz\n",
      "Extracting /tmp/data/t10k-images-idx3-ubyte.gz\n",
      "Extracting /tmp/data/t10k-labels-idx1-ubyte.gz\n"
     ]
    }
   ],
   "source": [
    "from tensorflow.examples.tutorials.mnist import input_data\n",
    "minist = input_data.read_data_sets(\"/tmp/data\", one_hot=False)\n",
    "                                  \n",
    "import tensorflow as tf\n",
    "import matplotlib.pyplot as plt\n",
    "import numpy as np"
   ]
  },
  {
   "cell_type": "markdown",
   "metadata": {},
   "source": [
    "## Parameters\n"
   ]
  },
  {
   "cell_type": "code",
   "execution_count": 9,
   "metadata": {
    "collapsed": true
   },
   "outputs": [],
   "source": [
    "learning_rate = 0.001\n",
    "num_steps = 2000\n",
    "batch_size = 128\n",
    "\n",
    "num_input = 784\n",
    "n_classes = 10\n",
    "dropout = 0.25"
   ]
  },
  {
   "cell_type": "markdown",
   "metadata": {},
   "source": [
    "## Building nets\n",
    "- network structure\n",
    "- loss\n",
    "- optimizer"
   ]
  },
  {
   "cell_type": "code",
   "execution_count": 10,
   "metadata": {
    "collapsed": true
   },
   "outputs": [],
   "source": [
    "# Create network\n",
    "def conv_net(x_dict, n_classes, dropout, reuse, is_training):\n",
    "    \"\"\"\n",
    "    x_dict: input in dicationary format \n",
    "    \"\"\"\n",
    "    with tf.variable_scope('ConvNet', reuse=reuse):\n",
    "        x = x_dict['images']\n",
    "        x = tf.reshape(x, shape=[-1, 28, 28, 1]) # reshpae into 2d image\n",
    "        \n",
    "        # Convolution layer with 32 filters and kenel size of 5\n",
    "        conv1 = tf.layers.conv2d(x, 32, 5, activation=tf.nn.relu)\n",
    "        conv1 = tf.layers.max_pooling2d(conv1, 2, 2)\n",
    "        \n",
    "        conv2 = tf.layers.conv2d(conv1, 64, 3, activation=tf.nn.relu)\n",
    "        conv2 = tf.layers.max_pooling2d(conv2, 2, 2)\n",
    "        \n",
    "        fc1 = tf.contrib.layers.flatten(conv2)\n",
    "        fc1 = tf.layers.dense(fc1, 1024)\n",
    "        fc1 = tf.layers.dropout(fc1, rate=dropout, training=is_training)\n",
    "        \n",
    "        # Output with 10 nerons, each stands for the probability of a number\n",
    "        out = tf.layers.dense(fc1, n_classes)\n",
    "        \n",
    "    return out\n",
    "        "
   ]
  },
  {
   "cell_type": "code",
   "execution_count": 11,
   "metadata": {
    "collapsed": true
   },
   "outputs": [],
   "source": [
    "# build the whole train/eval/predict elements together\n",
    "def model_fn(features, labels, mode):\n",
    "    logits_train = conv_net(features, n_classes, dropout, reuse=False, is_training=True)\n",
    "    logits_test = conv_net(features, n_classes, dropout, reuse=True, is_training=False)\n",
    "    \n",
    "    pred_classes = tf.argmax(logits_test, axis =1) # axis=1 means max in row\n",
    "    pred_probas = tf.nn.softmax(logits_test)\n",
    "    \n",
    "    # predict\n",
    "    if mode == tf.estimator.ModeKeys.PREDICT:\n",
    "        return tf.estimator.EstimatorSpec(mode, predictions=pred_classes)\n",
    "     # train\n",
    "    loss_op = tf.reduce_mean(tf.nn.sparse_softmax_cross_entropy_with_logits(\n",
    "    logits=logits_train, labels =tf.cast(labels, dtype=tf.int32)))\n",
    "    \n",
    "    optimizer = tf.train.AdamOptimizer(learning_rate = learning_rate)\n",
    "    train_op = optimizer.minimize(loss_op, global_step=tf.train.get_global_step())\n",
    "    \n",
    "    # evaluate\n",
    "    acc_op = tf.metrics.accuracy(labels= labels, predictions = pred_classes)\n",
    "    \n",
    "    # TF Estimators requires to return a EstimatorSpec, that specify\n",
    "    # the different ops for training, evaluating, ...\n",
    "    estim_specs = tf.estimator.EstimatorSpec(\n",
    "      mode=mode,\n",
    "      predictions=pred_classes,\n",
    "      loss=loss_op,\n",
    "      train_op=train_op,\n",
    "      eval_metric_ops={'accuracy': acc_op})\n",
    "\n",
    "    return estim_specs\n",
    "    \n",
    " "
   ]
  },
  {
   "cell_type": "code",
   "execution_count": 12,
   "metadata": {},
   "outputs": [
    {
     "name": "stdout",
     "output_type": "stream",
     "text": [
      "INFO:tensorflow:Using default config.\n",
      "WARNING:tensorflow:Using temporary folder as model directory: /tmp/tmp2mjw030u\n",
      "INFO:tensorflow:Using config: {'_model_dir': '/tmp/tmp2mjw030u', '_tf_random_seed': None, '_save_summary_steps': 100, '_save_checkpoints_steps': None, '_save_checkpoints_secs': 600, '_session_config': allow_soft_placement: true\n",
      "graph_options {\n",
      "  rewrite_options {\n",
      "    meta_optimizer_iterations: ONE\n",
      "  }\n",
      "}\n",
      ", '_keep_checkpoint_max': 5, '_keep_checkpoint_every_n_hours': 10000, '_log_step_count_steps': 100, '_train_distribute': None, '_device_fn': None, '_protocol': None, '_eval_distribute': None, '_experimental_distribute': None, '_service': None, '_cluster_spec': <tensorflow.python.training.server_lib.ClusterSpec object at 0x7f7580f31b00>, '_task_type': 'worker', '_task_id': 0, '_global_id_in_cluster': 0, '_master': '', '_evaluation_master': '', '_is_chief': True, '_num_ps_replicas': 0, '_num_worker_replicas': 1}\n"
     ]
    }
   ],
   "source": [
    "model = tf.estimator.Estimator(model_fn)"
   ]
  },
  {
   "cell_type": "markdown",
   "metadata": {},
   "source": [
    "## Define input function for training"
   ]
  },
  {
   "cell_type": "code",
   "execution_count": 13,
   "metadata": {},
   "outputs": [
    {
     "name": "stdout",
     "output_type": "stream",
     "text": [
      "WARNING:tensorflow:From /home/huiwen/anaconda3/lib/python3.6/site-packages/tensorflow/python/estimator/inputs/queues/feeding_queue_runner.py:62: QueueRunner.__init__ (from tensorflow.python.training.queue_runner_impl) is deprecated and will be removed in a future version.\n",
      "Instructions for updating:\n",
      "To construct input pipelines, use the `tf.data` module.\n",
      "WARNING:tensorflow:From /home/huiwen/anaconda3/lib/python3.6/site-packages/tensorflow/python/estimator/inputs/queues/feeding_functions.py:500: add_queue_runner (from tensorflow.python.training.queue_runner_impl) is deprecated and will be removed in a future version.\n",
      "Instructions for updating:\n",
      "To construct input pipelines, use the `tf.data` module.\n",
      "INFO:tensorflow:Calling model_fn.\n",
      "INFO:tensorflow:Done calling model_fn.\n",
      "INFO:tensorflow:Create CheckpointSaverHook.\n",
      "INFO:tensorflow:Graph was finalized.\n",
      "INFO:tensorflow:Running local_init_op.\n",
      "INFO:tensorflow:Done running local_init_op.\n",
      "WARNING:tensorflow:From /home/huiwen/anaconda3/lib/python3.6/site-packages/tensorflow/python/training/monitored_session.py:804: start_queue_runners (from tensorflow.python.training.queue_runner_impl) is deprecated and will be removed in a future version.\n",
      "Instructions for updating:\n",
      "To construct input pipelines, use the `tf.data` module.\n",
      "INFO:tensorflow:Saving checkpoints for 0 into /tmp/tmp2mjw030u/model.ckpt.\n",
      "INFO:tensorflow:loss = 2.30503, step = 1\n",
      "INFO:tensorflow:global_step/sec: 25.3113\n",
      "INFO:tensorflow:loss = 0.110726, step = 101 (3.952 sec)\n",
      "INFO:tensorflow:global_step/sec: 25.3417\n",
      "INFO:tensorflow:loss = 0.0425577, step = 201 (3.946 sec)\n",
      "INFO:tensorflow:global_step/sec: 25.3609\n",
      "INFO:tensorflow:loss = 0.0686854, step = 301 (3.943 sec)\n",
      "INFO:tensorflow:global_step/sec: 25.9443\n",
      "INFO:tensorflow:loss = 0.0639506, step = 401 (3.854 sec)\n",
      "INFO:tensorflow:global_step/sec: 25.3928\n",
      "INFO:tensorflow:loss = 0.0526217, step = 501 (3.938 sec)\n",
      "INFO:tensorflow:global_step/sec: 25.8324\n",
      "INFO:tensorflow:loss = 0.0167182, step = 601 (3.871 sec)\n",
      "INFO:tensorflow:global_step/sec: 25.9307\n",
      "INFO:tensorflow:loss = 0.0417111, step = 701 (3.856 sec)\n",
      "INFO:tensorflow:global_step/sec: 25.9027\n",
      "INFO:tensorflow:loss = 0.0875866, step = 801 (3.861 sec)\n",
      "INFO:tensorflow:global_step/sec: 25.8741\n",
      "INFO:tensorflow:loss = 0.0212388, step = 901 (3.865 sec)\n",
      "INFO:tensorflow:global_step/sec: 25.9075\n",
      "INFO:tensorflow:loss = 0.00715434, step = 1001 (3.860 sec)\n",
      "INFO:tensorflow:global_step/sec: 25.9145\n",
      "INFO:tensorflow:loss = 0.0404265, step = 1101 (3.859 sec)\n",
      "INFO:tensorflow:global_step/sec: 25.9428\n",
      "INFO:tensorflow:loss = 0.0081265, step = 1201 (3.855 sec)\n",
      "INFO:tensorflow:global_step/sec: 25.8058\n",
      "INFO:tensorflow:loss = 0.0297588, step = 1301 (3.875 sec)\n",
      "INFO:tensorflow:global_step/sec: 25.8235\n",
      "INFO:tensorflow:loss = 0.0713755, step = 1401 (3.872 sec)\n",
      "INFO:tensorflow:global_step/sec: 25.9038\n",
      "INFO:tensorflow:loss = 0.0470687, step = 1501 (3.860 sec)\n",
      "INFO:tensorflow:global_step/sec: 25.9935\n",
      "INFO:tensorflow:loss = 0.00177337, step = 1601 (3.847 sec)\n",
      "INFO:tensorflow:global_step/sec: 25.8635\n",
      "INFO:tensorflow:loss = 0.0162333, step = 1701 (3.867 sec)\n",
      "INFO:tensorflow:global_step/sec: 25.947\n",
      "INFO:tensorflow:loss = 0.0197706, step = 1801 (3.854 sec)\n",
      "INFO:tensorflow:global_step/sec: 25.8574\n",
      "INFO:tensorflow:loss = 0.018236, step = 1901 (3.868 sec)\n",
      "INFO:tensorflow:Saving checkpoints for 2000 into /tmp/tmp2mjw030u/model.ckpt.\n",
      "INFO:tensorflow:Loss for final step: 0.0258055.\n"
     ]
    },
    {
     "data": {
      "text/plain": [
       "<tensorflow.python.estimator.estimator.Estimator at 0x7f7580f31c50>"
      ]
     },
     "execution_count": 13,
     "metadata": {},
     "output_type": "execute_result"
    }
   ],
   "source": [
    "input_fn = tf.estimator.inputs.numpy_input_fn(\n",
    "x = {'images':minist.train.images}, y=minist.train.labels,\n",
    "batch_size = batch_size, num_epochs=None, shuffle=True)\n",
    "\n",
    "# train model\n",
    "model.train(input_fn, steps = num_steps)"
   ]
  },
  {
   "cell_type": "markdown",
   "metadata": {},
   "source": [
    "## Define input function for evalutation"
   ]
  },
  {
   "cell_type": "code",
   "execution_count": 14,
   "metadata": {},
   "outputs": [
    {
     "name": "stdout",
     "output_type": "stream",
     "text": [
      "INFO:tensorflow:Calling model_fn.\n",
      "INFO:tensorflow:Done calling model_fn.\n",
      "INFO:tensorflow:Starting evaluation at 2019-01-17-04:44:41\n",
      "INFO:tensorflow:Graph was finalized.\n",
      "INFO:tensorflow:Restoring parameters from /tmp/tmp2mjw030u/model.ckpt-2000\n",
      "INFO:tensorflow:Running local_init_op.\n",
      "INFO:tensorflow:Done running local_init_op.\n",
      "INFO:tensorflow:Finished evaluation at 2019-01-17-04:44:42\n",
      "INFO:tensorflow:Saving dict for global step 2000: accuracy = 0.9895, global_step = 2000, loss = 0.0378753\n",
      "INFO:tensorflow:Saving 'checkpoint_path' summary for global step 2000: /tmp/tmp2mjw030u/model.ckpt-2000\n"
     ]
    },
    {
     "data": {
      "text/plain": [
       "{'accuracy': 0.98949999, 'global_step': 2000, 'loss': 0.037875313}"
      ]
     },
     "execution_count": 14,
     "metadata": {},
     "output_type": "execute_result"
    }
   ],
   "source": [
    "input_fn = tf.estimator.inputs.numpy_input_fn(\n",
    "x= {'images':minist.test.images}, y = minist.test.labels,\n",
    "   batch_size = batch_size, shuffle = False)\n",
    "model.evaluate(input_fn)"
   ]
  },
  {
   "cell_type": "markdown",
   "metadata": {},
   "source": [
    "## Prediction single images"
   ]
  },
  {
   "cell_type": "code",
   "execution_count": 15,
   "metadata": {},
   "outputs": [
    {
     "name": "stdout",
     "output_type": "stream",
     "text": [
      "INFO:tensorflow:Calling model_fn.\n",
      "INFO:tensorflow:Done calling model_fn.\n",
      "INFO:tensorflow:Graph was finalized.\n",
      "INFO:tensorflow:Restoring parameters from /tmp/tmp2mjw030u/model.ckpt-2000\n",
      "INFO:tensorflow:Running local_init_op.\n",
      "INFO:tensorflow:Done running local_init_op.\n"
     ]
    },
    {
     "data": {
      "image/png": "[encoded data removed]",
      "text/plain": [
       "<matplotlib.figure.Figure at 0x7f757c35a080>"
      ]
     },
     "metadata": {},
     "output_type": "display_data"
    },
    {
     "name": "stdout",
     "output_type": "stream",
     "text": [
      "Prediction label: 7\n"
     ]
    },
    {
     "data": {
      "image/png": "[encoded data removed]",
      "text/plain": [
       "<matplotlib.figure.Figure at 0x7f75806cccf8>"
      ]
     },
     "metadata": {},
     "output_type": "display_data"
    },
    {
     "name": "stdout",
     "output_type": "stream",
     "text": [
      "Prediction label: 2\n"
     ]
    },
    {
     "data": {
      "image/png": "[encoded data removed]",
      "text/plain": [
       "<matplotlib.figure.Figure at 0x7f7580f91208>"
      ]
     },
     "metadata": {},
     "output_type": "display_data"
    },
    {
     "name": "stdout",
     "output_type": "stream",
     "text": [
      "Prediction label: 1\n"
     ]
    },
    {
     "data": {
      "image/png": "[encoded data removed]",
      "text/plain": [
       "<matplotlib.figure.Figure at 0x7f757fbab9e8>"
      ]
     },
     "metadata": {},
     "output_type": "display_data"
    },
    {
     "name": "stdout",
     "output_type": "stream",
     "text": [
      "Prediction label: 0\n"
     ]
    }
   ],
   "source": [
    "n_images = 4\n",
    "test_images = minist.test.images[:n_images]\n",
    "input_fn = tf.estimator.inputs.numpy_input_fn(\n",
    "x= {'images':test_images}, shuffle = False)\n",
    "preds = list(model.predict(input_fn))\n",
    "\n",
    "for i in range(n_images):\n",
    "    plt.imshow(np.reshape(test_images[i], [28, 28]), cmap = 'gray')\n",
    "    plt.show()\n",
    "    print(\"Prediction label: {}\".format(preds[i]))"
   ]
  }
 ],
 "metadata": {
  "kernelspec": {
   "display_name": "Python [conda root]",
   "language": "python",
   "name": "conda-root-py"
  },
  "language_info": {
   "codemirror_mode": {
    "name": "ipython",
    "version": 3
   },
   "file_extension": ".py",
   "mimetype": "text/x-python",
   "name": "python",
   "nbconvert_exporter": "python",
   "pygments_lexer": "ipython3",
   "version": "3.6.3"
  },
  "toc": {
   "base_numbering": 1,
   "nav_menu": {},
   "number_sections": true,
   "sideBar": true,
   "skip_h1_title": false,
   "title_cell": "Table of Contents",
   "title_sidebar": "Contents",
   "toc_cell": false,
   "toc_position": {},
   "toc_section_display": true,
   "toc_window_display": true
  }
 },
 "nbformat": 4,
 "nbformat_minor": 2
}
